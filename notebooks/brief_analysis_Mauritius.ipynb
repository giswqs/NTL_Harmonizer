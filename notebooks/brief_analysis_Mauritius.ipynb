{
 "cells": [
  {
   "cell_type": "markdown",
   "id": "ea42ee97",
   "metadata": {},
   "source": [
    "# Test countries analysis: Mauritius\n",
    "\n",
    "These notebooks apply the harmonizer model to each of the shapefiles provided in the `roifiles/` sub-directory:\n",
    "- Contiguous US (\"CONUS\") \n",
    "- Germany \n",
    "- Spain \n",
    "- France \n",
    "- Italy \n",
    "- Japan \n",
    "- Mauritius **featured in this notebook**\n",
    "- Nicaragua\n",
    "- Puerto Rico\n",
    "- El Salvador\n",
    "- Uganda\n",
    "\n",
    "As a prerequisite to executing this analyis the harmonizer must be run to get the outputs. This can be done for all countries in the test folder at once. To run, simply to go command line (at root level of this repo) and enter:\n",
    "\n",
    "`$ python -m harmonizer.main -a`\n",
    "\n",
    "It will take ~40 min (2-3 minutes for each country, except the US which takes 20+).\n",
    "\n",
    "Results for all will be in the `outputs/<country_shapefile_name>` and `results/<country_shapefile_name>` sub-directories."
   ]
  },
  {
   "cell_type": "code",
   "execution_count": 2,
   "id": "2bc79171",
   "metadata": {},
   "outputs": [],
   "source": [
    "from IPython.display import Image, Video\n",
    "from harmonizer.diagnostics import *\n",
    "from harmonizer.config import DMSP_CLIP, VIIRS_CLIP\n",
    "from harmonizer.plots import difference_plots\n",
    "import seaborn as sns\n",
    "import matplotlib.pyplot as plt"
   ]
  },
  {
   "cell_type": "markdown",
   "id": "1fe4a1e0",
   "metadata": {},
   "source": [
    "## Mauritius time lapse raw vs harmonized\n",
    "\n",
    "A time lapse video of nighttimme lights from 1992 - present (DMSP-OLS until 2013, then VIIRS-DNB)."
   ]
  },
  {
   "cell_type": "code",
   "execution_count": 3,
   "id": "d2756ecb",
   "metadata": {},
   "outputs": [
    {
     "data": {
      "text/html": [
       "<video src=\"../results/gadm36_MUS_0/raw.mp4\" controls  width=\"700\" >\n",
       "      Your browser does not support the <code>video</code> element.\n",
       "    </video>"
      ],
      "text/plain": [
       "<IPython.core.display.Video object>"
      ]
     },
     "execution_count": 3,
     "metadata": {},
     "output_type": "execute_result"
    }
   ],
   "source": [
    "results_dir = \"gadm36_MUS_0\"\n",
    "Video(f\"../results/{results_dir}/raw.mp4\",width=700)"
   ]
  },
  {
   "cell_type": "markdown",
   "id": "0867ac41",
   "metadata": {},
   "source": [
    "The fluctuations in DMSP are visible and the shift to VIIRS-DNB (which is measured in completely different units) is so abrupt that the image goes dark.\n",
    "\n",
    "Due to small islands extending beyind the main island, this ROI is contains a large relative amount of ocean (the lower left corner has the interesting stuff).\n",
    "\n",
    "Here's the time lapse after the harmonization:"
   ]
  },
  {
   "cell_type": "code",
   "execution_count": 4,
   "id": "4beb6ae8",
   "metadata": {},
   "outputs": [
    {
     "data": {
      "text/html": [
       "<video src=\"../results/gadm36_MUS_0/final.mp4\" controls  width=\"700\" >\n",
       "      Your browser does not support the <code>video</code> element.\n",
       "    </video>"
      ],
      "text/plain": [
       "<IPython.core.display.Video object>"
      ]
     },
     "execution_count": 4,
     "metadata": {},
     "output_type": "execute_result"
    }
   ],
   "source": [
    "Video(f\"../results/{results_dir}/final.mp4\",width=700)"
   ]
  },
  {
   "cell_type": "markdown",
   "id": "6e2116d1",
   "metadata": {},
   "source": [
    "DMSP-OLS fluctuations remain although they're dampened, but the VIIRS-DNB is coherent.\n",
    "\n",
    "## Analysis of 2013 annual composite where DMSP-OLS and VIIRS-DNB overlap (used for training)\n",
    "\n",
    "### Visual comparison"
   ]
  },
  {
   "cell_type": "code",
   "execution_count": 5,
   "id": "6340812b",
   "metadata": {},
   "outputs": [
    {
     "data": {
      "image/png": "[encoded data removed]",
      "text/plain": [
       "<Figure size 1080x504 with 1 Axes>"
      ]
     },
     "metadata": {
      "needs_background": "light"
     },
     "output_type": "display_data"
    },
    {
     "data": {
      "image/png": "[encoded data removed]",
      "text/plain": [
       "<Figure size 1080x504 with 1 Axes>"
      ]
     },
     "metadata": {
      "needs_background": "light"
     },
     "output_type": "display_data"
    },
    {
     "data": {
      "image/png": "[encoded data removed]",
      "text/plain": [
       "<Figure size 1080x504 with 2 Axes>"
      ]
     },
     "metadata": {
      "needs_background": "light"
     },
     "output_type": "display_data"
    }
   ],
   "source": [
    "difference_plots(Path(Path.cwd().parent, \"results\", results_dir, \"2013_comparison_raster.tif\"))"
   ]
  },
  {
   "cell_type": "markdown",
   "id": "ff5d820b",
   "metadata": {},
   "source": [
    "Mauritius, a very small land area, shows a fairly uniform level of diffence (that is near zero) for VIIRS and DMSP. \n",
    "\n",
    "\n",
    "### Histogram of 2013 DMSP-OLS and VIIRS-DNB for Mauritius\n",
    "\n",
    "![hist](../results/gadm36_MUS_0/2013hist.png)"
   ]
  },
  {
   "cell_type": "markdown",
   "id": "33e1aff9",
   "metadata": {},
   "source": [
    "The histogram is not as smooth as other countries (given the small sample size) but still shows a decent alignment in distribution of VIIRS after harmonization (blue) and DMSP (red). The Anderson-Darling non-paramentric test of variance in distribution failed to reject the null (that these are drawn from the same population) -- i.e. no evidence that these samples vary significantly. Curiously the DMSP-OLS calibration process coerced data such that no digital number fell in a few values (18, 34, 48).\n",
    "\n",
    "#### Scattepot of 2013 VIIRS-DNB (after harmonization) and DMSP-OLS for Mauritius\n",
    "\n",
    "![scatter](../results/gadm36_MUS_0/2013scatter.png)"
   ]
  },
  {
   "cell_type": "markdown",
   "id": "508b7631",
   "metadata": {},
   "source": [
    "Scatter shows a very strong linear alignment of VIIRS-DNB (after harmonization) and DMSP-OLS. A low RMSD (~3) and high Spearman R (0.93) indicate that this harmonized dataset is very closely aligned.\n",
    "\n",
    "## Time series of annual composites (1992-2020) after harmonization\n",
    "In all plots, pixels with a \"digital number\" of less than 3 have been masked.\n",
    "\n",
    "### Mean radiance per pixel (DMSP-OLS-like \"digital number\")\n",
    "\n",
    "![ts mean](../results/gadm36_MUS_0/harmonized_ts_mean.png)\n",
    "\n",
    "### Median radiance per pixel (DMSP-OLS-like \"digital number\")\n",
    "\n",
    "![ts md](../results/gadm36_MUS_0/harmonized_ts_median.png)\n",
    "\n",
    "### Sum of Lights (DMSP-OLS-like \"digital number\")\n",
    "\n",
    "![ts mean](../results/gadm36_MUS_0/harmonized_ts_sum.png)"
   ]
  },
  {
   "cell_type": "markdown",
   "id": "5069a7b2",
   "metadata": {},
   "source": [
    "A notable peak in DMSP data in early 2000s...but could be an indication of econmic activity. The DMSP to VIIRS coherence is fairly strong."
   ]
  },
  {
   "cell_type": "code",
   "execution_count": null,
   "id": "be81d961",
   "metadata": {},
   "outputs": [],
   "source": []
  }
 ],
 "metadata": {
  "hide_input": false,
  "kernelspec": {
   "display_name": "Python 3",
   "language": "python",
   "name": "python3"
  },
  "language_info": {
   "codemirror_mode": {
    "name": "ipython",
    "version": 3
   },
   "file_extension": ".py",
   "mimetype": "text/x-python",
   "name": "python",
   "nbconvert_exporter": "python",
   "pygments_lexer": "ipython3",
   "version": "3.8.5"
  },
  "toc": {
   "base_numbering": 1,
   "nav_menu": {},
   "number_sections": false,
   "sideBar": true,
   "skip_h1_title": false,
   "title_cell": "Table of Contents",
   "title_sidebar": "Contents",
   "toc_cell": false,
   "toc_position": {},
   "toc_section_display": true,
   "toc_window_display": false
  }
 },
 "nbformat": 4,
 "nbformat_minor": 5
}
